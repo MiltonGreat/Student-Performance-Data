{
 "cells": [
  {
   "cell_type": "code",
   "execution_count": 7,
   "id": "dc3c5a79",
   "metadata": {},
   "outputs": [],
   "source": [
    "import pandas as pd\n",
    "import numpy as np\n",
    "import matplotlib.pyplot as plt\n",
    "import seaborn as sns\n",
    "import zipfile\n",
    "import os"
   ]
  },
  {
   "cell_type": "code",
   "execution_count": 9,
   "id": "04a6664b",
   "metadata": {},
   "outputs": [
    {
     "name": "stdout",
     "output_type": "stream",
     "text": [
      "   gender race_ethnicity parental_level_of_education         lunch  \\\n",
      "0  female        group B           bachelor's degree      standard   \n",
      "1  female        group C                some college      standard   \n",
      "2  female        group B             master's degree      standard   \n",
      "3    male        group A          associate's degree  free/reduced   \n",
      "4    male        group C                some college      standard   \n",
      "\n",
      "  test_preparation_course  math_score  reading_score  writing_score  \n",
      "0                    none          72             72             74  \n",
      "1               completed          69             90             88  \n",
      "2                    none          90             95             93  \n",
      "3                    none          47             57             44  \n",
      "4                    none          76             78             75  \n"
     ]
    }
   ],
   "source": [
    "# Unzipping the file\n",
    "with zipfile.ZipFile('Students_Performance.zip', 'r') as zip_ref:\n",
    "    zip_ref.extractall('Students_Performance')\n",
    "\n",
    "# Get list of all files in the extracted folder\n",
    "file_list = os.listdir('Students_Performance')\n",
    "\n",
    "# Load the first CSV file into a DataFrame as an example\n",
    "csv_file = [file for file in file_list if file.endswith('.csv')][0]\n",
    "df = pd.read_csv(f'Students_Performance/{csv_file}')"
   ]
  },
  {
   "cell_type": "markdown",
   "id": "e27f213f",
   "metadata": {},
   "source": [
    "### Initial Data Exploration"
   ]
  },
  {
   "cell_type": "code",
   "execution_count": 11,
   "id": "5e4fc0ac",
   "metadata": {},
   "outputs": [
    {
     "name": "stdout",
     "output_type": "stream",
     "text": [
      "   gender race_ethnicity parental_level_of_education         lunch  \\\n",
      "0  female        group B           bachelor's degree      standard   \n",
      "1  female        group C                some college      standard   \n",
      "2  female        group B             master's degree      standard   \n",
      "3    male        group A          associate's degree  free/reduced   \n",
      "4    male        group C                some college      standard   \n",
      "\n",
      "  test_preparation_course  math_score  reading_score  writing_score  \n",
      "0                    none          72             72             74  \n",
      "1               completed          69             90             88  \n",
      "2                    none          90             95             93  \n",
      "3                    none          47             57             44  \n",
      "4                    none          76             78             75  \n"
     ]
    }
   ],
   "source": [
    "# Display the first few rows to inspect the data\n",
    "print(df.head())"
   ]
  },
  {
   "cell_type": "code",
   "execution_count": 13,
   "id": "70ded11b",
   "metadata": {},
   "outputs": [
    {
     "data": {
      "text/html": [
       "<div>\n",
       "<style scoped>\n",
       "    .dataframe tbody tr th:only-of-type {\n",
       "        vertical-align: middle;\n",
       "    }\n",
       "\n",
       "    .dataframe tbody tr th {\n",
       "        vertical-align: top;\n",
       "    }\n",
       "\n",
       "    .dataframe thead th {\n",
       "        text-align: right;\n",
       "    }\n",
       "</style>\n",
       "<table border=\"1\" class=\"dataframe\">\n",
       "  <thead>\n",
       "    <tr style=\"text-align: right;\">\n",
       "      <th></th>\n",
       "      <th>math_score</th>\n",
       "      <th>reading_score</th>\n",
       "      <th>writing_score</th>\n",
       "    </tr>\n",
       "  </thead>\n",
       "  <tbody>\n",
       "    <tr>\n",
       "      <th>count</th>\n",
       "      <td>1000.00000</td>\n",
       "      <td>1000.000000</td>\n",
       "      <td>1000.000000</td>\n",
       "    </tr>\n",
       "    <tr>\n",
       "      <th>mean</th>\n",
       "      <td>66.08900</td>\n",
       "      <td>69.169000</td>\n",
       "      <td>68.054000</td>\n",
       "    </tr>\n",
       "    <tr>\n",
       "      <th>std</th>\n",
       "      <td>15.16308</td>\n",
       "      <td>14.600192</td>\n",
       "      <td>15.195657</td>\n",
       "    </tr>\n",
       "    <tr>\n",
       "      <th>min</th>\n",
       "      <td>0.00000</td>\n",
       "      <td>17.000000</td>\n",
       "      <td>10.000000</td>\n",
       "    </tr>\n",
       "    <tr>\n",
       "      <th>25%</th>\n",
       "      <td>57.00000</td>\n",
       "      <td>59.000000</td>\n",
       "      <td>57.750000</td>\n",
       "    </tr>\n",
       "    <tr>\n",
       "      <th>50%</th>\n",
       "      <td>66.00000</td>\n",
       "      <td>70.000000</td>\n",
       "      <td>69.000000</td>\n",
       "    </tr>\n",
       "    <tr>\n",
       "      <th>75%</th>\n",
       "      <td>77.00000</td>\n",
       "      <td>79.000000</td>\n",
       "      <td>79.000000</td>\n",
       "    </tr>\n",
       "    <tr>\n",
       "      <th>max</th>\n",
       "      <td>100.00000</td>\n",
       "      <td>100.000000</td>\n",
       "      <td>100.000000</td>\n",
       "    </tr>\n",
       "  </tbody>\n",
       "</table>\n",
       "</div>"
      ],
      "text/plain": [
       "       math_score  reading_score  writing_score\n",
       "count  1000.00000    1000.000000    1000.000000\n",
       "mean     66.08900      69.169000      68.054000\n",
       "std      15.16308      14.600192      15.195657\n",
       "min       0.00000      17.000000      10.000000\n",
       "25%      57.00000      59.000000      57.750000\n",
       "50%      66.00000      70.000000      69.000000\n",
       "75%      77.00000      79.000000      79.000000\n",
       "max     100.00000     100.000000     100.000000"
      ]
     },
     "execution_count": 13,
     "metadata": {},
     "output_type": "execute_result"
    }
   ],
   "source": [
    "df.describe()"
   ]
  },
  {
   "cell_type": "code",
   "execution_count": 15,
   "id": "c9f0ef20",
   "metadata": {},
   "outputs": [
    {
     "name": "stdout",
     "output_type": "stream",
     "text": [
      "<class 'pandas.core.frame.DataFrame'>\n",
      "RangeIndex: 1000 entries, 0 to 999\n",
      "Data columns (total 8 columns):\n",
      " #   Column                       Non-Null Count  Dtype \n",
      "---  ------                       --------------  ----- \n",
      " 0   gender                       1000 non-null   object\n",
      " 1   race_ethnicity               1000 non-null   object\n",
      " 2   parental_level_of_education  1000 non-null   object\n",
      " 3   lunch                        1000 non-null   object\n",
      " 4   test_preparation_course      1000 non-null   object\n",
      " 5   math_score                   1000 non-null   int64 \n",
      " 6   reading_score                1000 non-null   int64 \n",
      " 7   writing_score                1000 non-null   int64 \n",
      "dtypes: int64(3), object(5)\n",
      "memory usage: 62.6+ KB\n"
     ]
    }
   ],
   "source": [
    "df.info()"
   ]
  },
  {
   "cell_type": "code",
   "execution_count": 19,
   "id": "791e6f7c-a593-4cbe-b3bd-85d641dcb227",
   "metadata": {},
   "outputs": [
    {
     "name": "stdout",
     "output_type": "stream",
     "text": [
      "\n",
      "Unique values in 'gender':\n",
      "['female' 'male']\n",
      "\n",
      "Unique values in 'race_ethnicity':\n",
      "['group B' 'group C' 'group A' 'group D' 'group E']\n",
      "\n",
      "Unique values in 'parental_level_of_education':\n",
      "[\"bachelor's degree\" 'some college' \"master's degree\" \"associate's degree\"\n",
      " 'high school' 'some high school']\n",
      "\n",
      "Unique values in 'lunch':\n",
      "['standard' 'free/reduced']\n",
      "\n",
      "Unique values in 'test_preparation_course':\n",
      "['none' 'completed']\n"
     ]
    }
   ],
   "source": [
    "# Display unique values in categorical columns\n",
    "categorical_columns = df.select_dtypes(include='object').columns\n",
    "for col in categorical_columns:\n",
    "    print(f\"\\nUnique values in '{col}':\")\n",
    "    print(df[col].unique())"
   ]
  },
  {
   "cell_type": "markdown",
   "id": "0dabfb8b",
   "metadata": {},
   "source": [
    "### Handling missing values"
   ]
  },
  {
   "cell_type": "code",
   "execution_count": 22,
   "id": "9a1b595d-dc57-4611-8419-456e0a80f1f7",
   "metadata": {},
   "outputs": [
    {
     "name": "stdout",
     "output_type": "stream",
     "text": [
      "\n",
      "Missing Values After Handling:\n",
      "\n",
      "gender                         0\n",
      "race_ethnicity                 0\n",
      "parental_level_of_education    0\n",
      "lunch                          0\n",
      "test_preparation_course        0\n",
      "math_score                     0\n",
      "reading_score                  0\n",
      "writing_score                  0\n",
      "dtype: int64\n"
     ]
    }
   ],
   "source": [
    "# Fill missing numerical values with the median\n",
    "numeric_cols = df.select_dtypes(include=['float64', 'int64']).columns\n",
    "df[numeric_cols] = df[numeric_cols].fillna(df[numeric_cols].median())\n",
    "\n",
    "# Fill missing categorical values with the most frequent value (mode)\n",
    "categorical_cols = df.select_dtypes(include='object').columns\n",
    "for col in categorical_cols:\n",
    "    df[col].fillna(df[col].mode()[0], inplace=True)\n",
    "\n",
    "# Verify if all missing values have been handled\n",
    "print(\"\\nMissing Values After Handling:\\n\")\n",
    "print(df.isnull().sum())"
   ]
  },
  {
   "cell_type": "code",
   "execution_count": null,
   "id": "30f9f7f0",
   "metadata": {},
   "outputs": [],
   "source": [
    "# df.fillna(method='ffill', inplace=True)\n",
    "# df.fillna(method='bfill', inplace=True)"
   ]
  },
  {
   "cell_type": "code",
   "execution_count": null,
   "id": "e91da565",
   "metadata": {},
   "outputs": [],
   "source": [
    "# df.isnull().sum()"
   ]
  },
  {
   "cell_type": "markdown",
   "id": "951d08f0",
   "metadata": {},
   "source": [
    "### Smoothing Noisy Data"
   ]
  },
  {
   "cell_type": "code",
   "execution_count": 30,
   "id": "964dfe6f",
   "metadata": {},
   "outputs": [
    {
     "name": "stdout",
     "output_type": "stream",
     "text": [
      "   gender race_ethnicity parental_level_of_education         lunch  \\\n",
      "0  female        group B           bachelor's degree      standard   \n",
      "1  female        group C                some college      standard   \n",
      "2  female        group B             master's degree      standard   \n",
      "3    male        group A          associate's degree  free/reduced   \n",
      "4    male        group C                some college      standard   \n",
      "\n",
      "  test_preparation_course  math_score  reading_score  writing_score  \n",
      "0                    none   72.000000      72.000000      74.000000  \n",
      "1               completed   70.500000      81.000000      81.000000  \n",
      "2                    none   77.000000      85.666667      85.000000  \n",
      "3                    none   68.666667      80.666667      75.000000  \n",
      "4                    none   71.000000      76.666667      70.666667  \n"
     ]
    }
   ],
   "source": [
    "# Apply rolling mean to smooth the 'math_score' column\n",
    "df['math_score'] = df['math_score'].rolling(window=3, min_periods=1).mean().fillna(df['math_score'])\n",
    "\n",
    "# Similarly, smooth 'reading_score' and 'writing_score'\n",
    "df['reading_score'] = df['reading_score'].rolling(window=3, min_periods=1).mean().fillna(df['reading_score'])\n",
    "df['writing_score'] = df['writing_score'].rolling(window=3, min_periods=1).mean().fillna(df['writing_score'])\n",
    "\n",
    "print(df.head())"
   ]
  },
  {
   "cell_type": "markdown",
   "id": "4ef88dc0",
   "metadata": {},
   "source": [
    "### Identifying and Removing Outliers"
   ]
  },
  {
   "cell_type": "code",
   "execution_count": 40,
   "id": "c4b2f706-ba06-499b-9e06-925a20596df8",
   "metadata": {},
   "outputs": [
    {
     "name": "stdout",
     "output_type": "stream",
     "text": [
      "\n",
      "Data Shape After Removing Outliers: (978, 8)\n"
     ]
    }
   ],
   "source": [
    "# Identify outliers using IQR method for numeric columns\n",
    "def remove_outliers(df, column):\n",
    "    Q1 = df[column].quantile(0.25)\n",
    "    Q3 = df[column].quantile(0.75)\n",
    "    IQR = Q3 - Q1\n",
    "    lower_bound = Q1 - 1.5 * IQR\n",
    "    upper_bound = Q3 + 1.5 * IQR\n",
    "    return df[(df[column] >= lower_bound) & (df[column] <= upper_bound)]\n",
    "\n",
    "# Remove outliers from all numeric columns\n",
    "for col in numeric_cols:\n",
    "    df = remove_outliers(df, col)\n",
    "\n",
    "print(\"\\nData Shape After Removing Outliers:\", df.shape)\n"
   ]
  },
  {
   "cell_type": "markdown",
   "id": "1751e529",
   "metadata": {},
   "source": [
    "### Verify Data Cleaning"
   ]
  },
  {
   "cell_type": "code",
   "execution_count": 44,
   "id": "0ed7e911",
   "metadata": {},
   "outputs": [
    {
     "name": "stdout",
     "output_type": "stream",
     "text": [
      "gender                         0\n",
      "race_ethnicity                 0\n",
      "parental_level_of_education    0\n",
      "lunch                          0\n",
      "test_preparation_course        0\n",
      "math_score                     0\n",
      "reading_score                  0\n",
      "writing_score                  0\n",
      "dtype: int64\n",
      "       math_score  reading_score  writing_score\n",
      "count  978.000000     978.000000     978.000000\n",
      "mean    66.491650      69.550102      68.459100\n",
      "std      8.056801       7.927228       8.248788\n",
      "min     45.000000      48.333333      46.333333\n",
      "25%     61.000000      64.333333      63.000000\n",
      "50%     66.500000      69.666667      68.666667\n",
      "75%     72.000000      75.333333      74.333333\n",
      "max     87.666667      91.000000      91.000000\n",
      "   gender race_ethnicity parental_level_of_education         lunch  \\\n",
      "0  female        group B           bachelor's degree      standard   \n",
      "1  female        group C                some college      standard   \n",
      "2  female        group B             master's degree      standard   \n",
      "3    male        group A          associate's degree  free/reduced   \n",
      "4    male        group C                some college      standard   \n",
      "\n",
      "  test_preparation_course  math_score  reading_score  writing_score  \n",
      "0                    none   72.000000      72.000000      74.000000  \n",
      "1               completed   70.500000      81.000000      81.000000  \n",
      "2                    none   77.000000      85.666667      85.000000  \n",
      "3                    none   68.666667      80.666667      75.000000  \n",
      "4                    none   71.000000      76.666667      70.666667  \n"
     ]
    }
   ],
   "source": [
    "# Check for missing values again\n",
    "print(df.isnull().sum())\n",
    "\n",
    "# Get descriptive statistics again\n",
    "print(df.describe())\n",
    "\n",
    "# Display the first few rows of the cleaned dataset\n",
    "print(df.head())"
   ]
  },
  {
   "cell_type": "markdown",
   "id": "4f8600ed",
   "metadata": {},
   "source": [
    "### Final check"
   ]
  },
  {
   "cell_type": "code",
   "execution_count": 46,
   "id": "3e5547f5",
   "metadata": {},
   "outputs": [
    {
     "name": "stdout",
     "output_type": "stream",
     "text": [
      "<class 'pandas.core.frame.DataFrame'>\n",
      "Index: 978 entries, 0 to 999\n",
      "Data columns (total 8 columns):\n",
      " #   Column                       Non-Null Count  Dtype  \n",
      "---  ------                       --------------  -----  \n",
      " 0   gender                       978 non-null    object \n",
      " 1   race_ethnicity               978 non-null    object \n",
      " 2   parental_level_of_education  978 non-null    object \n",
      " 3   lunch                        978 non-null    object \n",
      " 4   test_preparation_course      978 non-null    object \n",
      " 5   math_score                   978 non-null    float64\n",
      " 6   reading_score                978 non-null    float64\n",
      " 7   writing_score                978 non-null    float64\n",
      "dtypes: float64(3), object(5)\n",
      "memory usage: 68.8+ KB\n"
     ]
    },
    {
     "data": {
      "text/html": [
       "<div>\n",
       "<style scoped>\n",
       "    .dataframe tbody tr th:only-of-type {\n",
       "        vertical-align: middle;\n",
       "    }\n",
       "\n",
       "    .dataframe tbody tr th {\n",
       "        vertical-align: top;\n",
       "    }\n",
       "\n",
       "    .dataframe thead th {\n",
       "        text-align: right;\n",
       "    }\n",
       "</style>\n",
       "<table border=\"1\" class=\"dataframe\">\n",
       "  <thead>\n",
       "    <tr style=\"text-align: right;\">\n",
       "      <th></th>\n",
       "      <th>math_score</th>\n",
       "      <th>reading_score</th>\n",
       "      <th>writing_score</th>\n",
       "    </tr>\n",
       "  </thead>\n",
       "  <tbody>\n",
       "    <tr>\n",
       "      <th>count</th>\n",
       "      <td>978.000000</td>\n",
       "      <td>978.000000</td>\n",
       "      <td>978.000000</td>\n",
       "    </tr>\n",
       "    <tr>\n",
       "      <th>mean</th>\n",
       "      <td>66.491650</td>\n",
       "      <td>69.550102</td>\n",
       "      <td>68.459100</td>\n",
       "    </tr>\n",
       "    <tr>\n",
       "      <th>std</th>\n",
       "      <td>8.056801</td>\n",
       "      <td>7.927228</td>\n",
       "      <td>8.248788</td>\n",
       "    </tr>\n",
       "    <tr>\n",
       "      <th>min</th>\n",
       "      <td>45.000000</td>\n",
       "      <td>48.333333</td>\n",
       "      <td>46.333333</td>\n",
       "    </tr>\n",
       "    <tr>\n",
       "      <th>25%</th>\n",
       "      <td>61.000000</td>\n",
       "      <td>64.333333</td>\n",
       "      <td>63.000000</td>\n",
       "    </tr>\n",
       "    <tr>\n",
       "      <th>50%</th>\n",
       "      <td>66.500000</td>\n",
       "      <td>69.666667</td>\n",
       "      <td>68.666667</td>\n",
       "    </tr>\n",
       "    <tr>\n",
       "      <th>75%</th>\n",
       "      <td>72.000000</td>\n",
       "      <td>75.333333</td>\n",
       "      <td>74.333333</td>\n",
       "    </tr>\n",
       "    <tr>\n",
       "      <th>max</th>\n",
       "      <td>87.666667</td>\n",
       "      <td>91.000000</td>\n",
       "      <td>91.000000</td>\n",
       "    </tr>\n",
       "  </tbody>\n",
       "</table>\n",
       "</div>"
      ],
      "text/plain": [
       "       math_score  reading_score  writing_score\n",
       "count  978.000000     978.000000     978.000000\n",
       "mean    66.491650      69.550102      68.459100\n",
       "std      8.056801       7.927228       8.248788\n",
       "min     45.000000      48.333333      46.333333\n",
       "25%     61.000000      64.333333      63.000000\n",
       "50%     66.500000      69.666667      68.666667\n",
       "75%     72.000000      75.333333      74.333333\n",
       "max     87.666667      91.000000      91.000000"
      ]
     },
     "execution_count": 46,
     "metadata": {},
     "output_type": "execute_result"
    }
   ],
   "source": [
    "df.info()\n",
    "df.describe()"
   ]
  },
  {
   "cell_type": "code",
   "execution_count": null,
   "id": "5c019443",
   "metadata": {},
   "outputs": [],
   "source": [
    "'''\n",
    "Exploratory Data Analysis (EDA):\n",
    "\n",
    "    Plot distributions of scores.\n",
    "    Examine relationships between different features.\n",
    "\n",
    "Feature Engineering:\n",
    "\n",
    "    Create new features if necessary.\n",
    "    Encode categorical variables.\n",
    "\n",
    "Modeling:\n",
    "\n",
    "    Train machine learning models on the cleaned data.\n",
    "    Evaluate model performance.\n",
    "'''"
   ]
  }
 ],
 "metadata": {
  "kernelspec": {
   "display_name": "Python 3 (ipykernel)",
   "language": "python",
   "name": "python3"
  },
  "language_info": {
   "codemirror_mode": {
    "name": "ipython",
    "version": 3
   },
   "file_extension": ".py",
   "mimetype": "text/x-python",
   "name": "python",
   "nbconvert_exporter": "python",
   "pygments_lexer": "ipython3",
   "version": "3.12.3"
  }
 },
 "nbformat": 4,
 "nbformat_minor": 5
}
